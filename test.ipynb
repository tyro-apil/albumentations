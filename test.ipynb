{
 "cells": [
  {
   "cell_type": "markdown",
   "metadata": {},
   "source": [
    "## Import libraries"
   ]
  },
  {
   "cell_type": "code",
   "execution_count": 1,
   "metadata": {},
   "outputs": [],
   "source": [
    "import cv2\n",
    "import albumentations as A"
   ]
  },
  {
   "cell_type": "code",
   "execution_count": 2,
   "metadata": {},
   "outputs": [],
   "source": [
    "import random\n",
    "random.seed(7)"
   ]
  },
  {
   "cell_type": "code",
   "execution_count": 3,
   "metadata": {},
   "outputs": [],
   "source": [
    "category_ids = ['0', '1', '2']\n",
    "category_id_to_name = {0: 'blue', 1: 'purple', 2: 'red'}"
   ]
  },
  {
   "cell_type": "markdown",
   "metadata": {},
   "source": [
    "## Set image and label directory"
   ]
  },
  {
   "cell_type": "code",
   "execution_count": 4,
   "metadata": {},
   "outputs": [],
   "source": [
    "import os\n",
    "IMAGE_DIR = 'images'\n",
    "LABEL_DIR = 'labels'\n",
    "img_files = os.listdir(IMAGE_DIR)\n",
    "label_files = os.listdir(LABEL_DIR)"
   ]
  },
  {
   "cell_type": "code",
   "execution_count": 5,
   "metadata": {},
   "outputs": [],
   "source": [
    "transform = A.Compose(\n",
    "  [\n",
    "    A.HorizontalFlip(p=0.8),\n",
    "    A.VerticalFlip(p=0.2),\n",
    "    A.OneOf([\n",
    "      A.Blur(blur_limit=5, p=0.5),\n",
    "      A.MotionBlur(blur_limit=5, p=0.8)\n",
    "    ], p=1.0)\n",
    "  ], bbox_params=A.BboxParams(format='yolo',  min_visibility=0.3, min_area=3600., label_fields=['category_ids'])\n",
    ")  "
   ]
  },
  {
   "cell_type": "code",
   "execution_count": 6,
   "metadata": {},
   "outputs": [
    {
     "ename": "ValueError",
     "evalue": "",
     "output_type": "error",
     "traceback": [
      "\u001b[0;31m---------------------------------------------------------------------------\u001b[0m",
      "\u001b[0;31mValueError\u001b[0m                                Traceback (most recent call last)",
      "Cell \u001b[0;32mIn[6], line 39\u001b[0m\n\u001b[1;32m     36\u001b[0m out_img_path \u001b[38;5;241m=\u001b[39m os\u001b[38;5;241m.\u001b[39mpath\u001b[38;5;241m.\u001b[39mjoin(IMAGE_DIR, \u001b[38;5;124mf\u001b[39m\u001b[38;5;124m'\u001b[39m\u001b[38;5;132;01m{\u001b[39;00moutfile\u001b[38;5;132;01m}\u001b[39;00m\u001b[38;5;124m.jpg\u001b[39m\u001b[38;5;124m'\u001b[39m)\n\u001b[1;32m     37\u001b[0m out_label_path \u001b[38;5;241m=\u001b[39m os\u001b[38;5;241m.\u001b[39mpath\u001b[38;5;241m.\u001b[39mjoin(LABEL_DIR, \u001b[38;5;124mf\u001b[39m\u001b[38;5;124m'\u001b[39m\u001b[38;5;132;01m{\u001b[39;00moutfile\u001b[38;5;132;01m}\u001b[39;00m\u001b[38;5;124m.txt\u001b[39m\u001b[38;5;124m'\u001b[39m)\n\u001b[0;32m---> 39\u001b[0m transformed \u001b[38;5;241m=\u001b[39m \u001b[43mtransform\u001b[49m\u001b[43m(\u001b[49m\u001b[43mimage\u001b[49m\u001b[38;5;241;43m=\u001b[39;49m\u001b[43mimg\u001b[49m\u001b[43m,\u001b[49m\u001b[43m \u001b[49m\u001b[43mbboxes\u001b[49m\u001b[38;5;241;43m=\u001b[39;49m\u001b[43mbboxes\u001b[49m\u001b[43m,\u001b[49m\u001b[43m \u001b[49m\u001b[43mcategory_ids\u001b[49m\u001b[38;5;241;43m=\u001b[39;49m\u001b[43mcategory_ids\u001b[49m\u001b[43m)\u001b[49m\n\u001b[1;32m     41\u001b[0m \u001b[38;5;28;01mif\u001b[39;00m \u001b[38;5;28mlen\u001b[39m(transformed[\u001b[38;5;124m\"\u001b[39m\u001b[38;5;124mbboxes\u001b[39m\u001b[38;5;124m\"\u001b[39m]) \u001b[38;5;241m==\u001b[39m \u001b[38;5;241m0\u001b[39m:\n\u001b[1;32m     42\u001b[0m   \u001b[38;5;28;01mcontinue\u001b[39;00m\n",
      "File \u001b[0;32m~/.local/lib/python3.10/site-packages/albumentations/core/composition.py:228\u001b[0m, in \u001b[0;36mCompose.__call__\u001b[0;34m(self, force_apply, *args, **data)\u001b[0m\n\u001b[1;32m    223\u001b[0m check_each_transform \u001b[38;5;241m=\u001b[39m \u001b[38;5;28many\u001b[39m(\n\u001b[1;32m    224\u001b[0m     \u001b[38;5;28mgetattr\u001b[39m(item\u001b[38;5;241m.\u001b[39mparams, \u001b[38;5;124m\"\u001b[39m\u001b[38;5;124mcheck_each_transform\u001b[39m\u001b[38;5;124m\"\u001b[39m, \u001b[38;5;28;01mFalse\u001b[39;00m) \u001b[38;5;28;01mfor\u001b[39;00m item \u001b[38;5;129;01min\u001b[39;00m \u001b[38;5;28mself\u001b[39m\u001b[38;5;241m.\u001b[39mprocessors\u001b[38;5;241m.\u001b[39mvalues()\n\u001b[1;32m    225\u001b[0m )\n\u001b[1;32m    227\u001b[0m \u001b[38;5;28;01mfor\u001b[39;00m p \u001b[38;5;129;01min\u001b[39;00m \u001b[38;5;28mself\u001b[39m\u001b[38;5;241m.\u001b[39mprocessors\u001b[38;5;241m.\u001b[39mvalues():\n\u001b[0;32m--> 228\u001b[0m     \u001b[43mp\u001b[49m\u001b[38;5;241;43m.\u001b[39;49m\u001b[43mpreprocess\u001b[49m\u001b[43m(\u001b[49m\u001b[43mdata\u001b[49m\u001b[43m)\u001b[49m\n\u001b[1;32m    230\u001b[0m \u001b[38;5;28;01mfor\u001b[39;00m t \u001b[38;5;129;01min\u001b[39;00m transforms:\n\u001b[1;32m    231\u001b[0m     data \u001b[38;5;241m=\u001b[39m t(\u001b[38;5;241m*\u001b[39m\u001b[38;5;241m*\u001b[39mdata)\n",
      "File \u001b[0;32m~/.local/lib/python3.10/site-packages/albumentations/core/utils.py:84\u001b[0m, in \u001b[0;36mDataProcessor.preprocess\u001b[0;34m(self, data)\u001b[0m\n\u001b[1;32m     83\u001b[0m \u001b[38;5;28;01mdef\u001b[39;00m \u001b[38;5;21mpreprocess\u001b[39m(\u001b[38;5;28mself\u001b[39m, data: Dict[\u001b[38;5;28mstr\u001b[39m, Any]) \u001b[38;5;241m-\u001b[39m\u001b[38;5;241m>\u001b[39m \u001b[38;5;28;01mNone\u001b[39;00m:\n\u001b[0;32m---> 84\u001b[0m     data \u001b[38;5;241m=\u001b[39m \u001b[38;5;28;43mself\u001b[39;49m\u001b[38;5;241;43m.\u001b[39;49m\u001b[43madd_label_fields_to_data\u001b[49m\u001b[43m(\u001b[49m\u001b[43mdata\u001b[49m\u001b[43m)\u001b[49m\n\u001b[1;32m     86\u001b[0m     rows, cols \u001b[38;5;241m=\u001b[39m data[\u001b[38;5;124m\"\u001b[39m\u001b[38;5;124mimage\u001b[39m\u001b[38;5;124m\"\u001b[39m]\u001b[38;5;241m.\u001b[39mshape[:\u001b[38;5;241m2\u001b[39m]\n\u001b[1;32m     87\u001b[0m     \u001b[38;5;28;01mfor\u001b[39;00m data_name \u001b[38;5;129;01min\u001b[39;00m \u001b[38;5;28mself\u001b[39m\u001b[38;5;241m.\u001b[39mdata_fields:\n",
      "File \u001b[0;32m~/.local/lib/python3.10/site-packages/albumentations/core/utils.py:135\u001b[0m, in \u001b[0;36mDataProcessor.add_label_fields_to_data\u001b[0;34m(self, data)\u001b[0m\n\u001b[1;32m    133\u001b[0m \u001b[38;5;28;01mfor\u001b[39;00m field \u001b[38;5;129;01min\u001b[39;00m \u001b[38;5;28mself\u001b[39m\u001b[38;5;241m.\u001b[39mparams\u001b[38;5;241m.\u001b[39mlabel_fields:\n\u001b[1;32m    134\u001b[0m     \u001b[38;5;28;01mif\u001b[39;00m \u001b[38;5;129;01mnot\u001b[39;00m \u001b[38;5;28mlen\u001b[39m(data[data_name]) \u001b[38;5;241m==\u001b[39m \u001b[38;5;28mlen\u001b[39m(data[field]):\n\u001b[0;32m--> 135\u001b[0m         \u001b[38;5;28;01mraise\u001b[39;00m \u001b[38;5;167;01mValueError\u001b[39;00m\n\u001b[1;32m    137\u001b[0m     data_with_added_field \u001b[38;5;241m=\u001b[39m []\n\u001b[1;32m    138\u001b[0m     \u001b[38;5;28;01mfor\u001b[39;00m d, field_value \u001b[38;5;129;01min\u001b[39;00m \u001b[38;5;28mzip\u001b[39m(data[data_name], data[field]):\n",
      "\u001b[0;31mValueError\u001b[0m: "
     ]
    }
   ],
   "source": [
    "for i, img_file in enumerate(img_files):\n",
    "\n",
    "  # Split the filename and extension\n",
    "  file_name, file_extension = os.path.splitext(img_file)\n",
    "\n",
    "  img_path = os.path.join(IMAGE_DIR, f'{file_name}.jpg')\n",
    "  label_path = os.path.join(LABEL_DIR, f'{file_name}.txt')\n",
    "\n",
    "  img = cv2.imread(img_path)\n",
    "  img = cv2.cvtColor(img, cv2.COLOR_BGR2RGB) \n",
    "  \n",
    "  bboxes = []\n",
    "\n",
    "  # Read from label text file\n",
    "  with open(label_path, 'r') as file:\n",
    "    lines = file.readlines()\n",
    "\n",
    "  for line in lines:\n",
    "\n",
    "    parts = line.strip().split()\n",
    "    class_num = int(parts[0])\n",
    "    bbox_coordinates = [float(part) for part in parts[1:]]\n",
    "\n",
    "    bboxes.append(bbox_coordinates) \n",
    "  \n",
    "  images_list = []\n",
    "  saved_bboxes = []\n",
    "  saved_category_ids = []\n",
    "  out_img_paths = []\n",
    "  out_label_paths = []\n",
    "\n",
    "  # for thrice the dataset: 2 augmentations for a single image\n",
    "  for i in range(2):\n",
    "    \n",
    "    outfile = f'{file_name}-aug{i}'\n",
    "    out_img_path = os.path.join(IMAGE_DIR, f'{outfile}.jpg')\n",
    "    out_label_path = os.path.join(LABEL_DIR, f'{outfile}.txt')\n",
    "\n",
    "    transformed = transform(image=img, bboxes=bboxes, category_ids=category_ids)\n",
    "\n",
    "    if len(transformed[\"bboxes\"]) == 0:\n",
    "      continue\n",
    "\n",
    "    images_list.append(transformed[\"image\"])\n",
    "    saved_bboxes.append(transformed[\"bboxes\"])\n",
    "    saved_category_ids.append(transformed[\"category_ids\"])\n",
    "\n",
    "    out_img_paths.append(out_img_path)\n",
    "    out_label_paths.append(out_label_path)\n",
    "\n",
    "\n",
    "  # Write the augmented image to images directory\n",
    "  for img in images_list:\n",
    "    img = cv2.cvtColor(img, cv2.COLOR_RGB2BGR)\n",
    "    cv2.imwrite(out_img_path, img)\n",
    "  \n",
    "  # Write the labels to label text file and put into labels directory\n",
    "  for aug_bboxes, aug_category_ids, out_label_path in zip(saved_bboxes, saved_category_ids, out_label_paths):\n",
    "    with open(out_label_path, 'a') as txt_file:\n",
    "      \n",
    "      for category_id, aug_bbox in zip(aug_category_ids, aug_bboxes):\n",
    "        labels = []\n",
    "        labels.append(str(category_id))\n",
    "        bbox_info = [str(info) for info in aug_bbox]\n",
    "        labels += bbox_info\n",
    "      \n",
    "      label_txt = ' '.join(labels)\n",
    "\n",
    "      txt_file.write(label_txt + '\\n')"
   ]
  },
  {
   "cell_type": "code",
   "execution_count": null,
   "metadata": {},
   "outputs": [],
   "source": []
  }
 ],
 "metadata": {
  "kernelspec": {
   "display_name": "Python 3",
   "language": "python",
   "name": "python3"
  },
  "language_info": {
   "codemirror_mode": {
    "name": "ipython",
    "version": 3
   },
   "file_extension": ".py",
   "mimetype": "text/x-python",
   "name": "python",
   "nbconvert_exporter": "python",
   "pygments_lexer": "ipython3",
   "version": "3.10.12"
  }
 },
 "nbformat": 4,
 "nbformat_minor": 2
}
