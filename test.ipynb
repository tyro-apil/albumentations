{
 "cells": [
  {
   "cell_type": "code",
   "execution_count": 1,
   "metadata": {},
   "outputs": [],
   "source": [
    "import cv2\n",
    "import albumentations as A\n",
    "import numpy as np"
   ]
  },
  {
   "cell_type": "code",
   "execution_count": 2,
   "metadata": {},
   "outputs": [],
   "source": [
    "import os\n",
    "IMAGE_DIR = 'images'\n",
    "LABEL_DIR = 'labels'\n",
    "img_files = os.listdir(IMAGE_DIR)\n",
    "label_files = os.listdir(LABEL_DIR)\n",
    "img_path = os.path.join(IMAGE_DIR, f'{img_files[0]}')\n",
    "label_path = os.path.join(LABEL_DIR, f'{label_files[0]}')"
   ]
  },
  {
   "cell_type": "code",
   "execution_count": 3,
   "metadata": {},
   "outputs": [],
   "source": [
    "image = cv2.imread(img_path)\n",
    "image = cv2.cvtColor(image, cv2.COLOR_BGR2RGB)"
   ]
  },
  {
   "cell_type": "code",
   "execution_count": 4,
   "metadata": {},
   "outputs": [],
   "source": [
    "bboxes = []\n",
    "\n",
    "with open(label_path, 'r') as file:\n",
    "  lines = file.readlines()\n",
    "\n",
    "for line in lines:\n",
    "  # bbox = []\n",
    "  parts = line.strip().split()\n",
    "  class_num = int(parts[0])\n",
    "  bbox_coordinates = [float(part) for part in parts[1:]]\n",
    "  # bbox = [class_num]+bbox_coordinates\n",
    "  bboxes.append(bbox_coordinates)\n"
   ]
  },
  {
   "cell_type": "code",
   "execution_count": 5,
   "metadata": {},
   "outputs": [],
   "source": [
    "transform = A.Compose(\n",
    "  [\n",
    "    A.Resize(width=640, height=480),\n",
    "    A.RandomCrop(width=640, height=480),\n",
    "    A.Rotate(limit=40, p=0.5, border_mode=cv2.BORDER_CONSTANT),\n",
    "    A.HorizontalFlip(p=0.8),\n",
    "    A.VerticalFlip(p=0.2),\n",
    "    A.OneOf([\n",
    "      A.Blur(blur_limit=5, p=0.5),\n",
    "      A.MotionBlur(blur_limit=5, p=0.7)\n",
    "    ], p=1.0)\n",
    "  ], bbox_params=A.BboxParams(format=\"yolo\",  min_visibility=0.3, label_fields=[])\n",
    ")"
   ]
  },
  {
   "cell_type": "code",
   "execution_count": 6,
   "metadata": {},
   "outputs": [],
   "source": [
    "images_list = [image]\n",
    "saved_bboxes = [bboxes[0]]"
   ]
  },
  {
   "cell_type": "code",
   "execution_count": 7,
   "metadata": {},
   "outputs": [],
   "source": [
    "for i in range(10):\n",
    "  augmentations = transform(image=image, bboxes=bboxes)\n",
    "  augmented_img = augmentations[\"image\"]\n",
    "\n",
    "  if len(augmentations[\"bboxes\"]) == 0:\n",
    "    continue\n",
    "\n",
    "  images_list.append(augmented_img)\n",
    "  saved_bboxes.append(augmentations[\"bboxes\"])"
   ]
  },
  {
   "cell_type": "code",
   "execution_count": 17,
   "metadata": {},
   "outputs": [],
   "source": [
    "RESULT_DIR = 'results'"
   ]
  },
  {
   "cell_type": "code",
   "execution_count": 21,
   "metadata": {},
   "outputs": [],
   "source": [
    "for i, img in enumerate(images_list):\n",
    "  result_path = os.path.join(RESULT_DIR, f'img-{i}.jpg')  # Add a valid file extension, such as '.jpg'\n",
    "  img = cv2.cvtColor(img, cv2.COLOR_RGB2BGR)\n",
    "  cv2.imwrite(result_path, img)"
   ]
  },
  {
   "cell_type": "code",
   "execution_count": 22,
   "metadata": {},
   "outputs": [
    {
     "name": "stdout",
     "output_type": "stream",
     "text": [
      "[0.19323979591836743, 0.7252551020408161, 0.38647959183673486, 0.5341836734693876]\n",
      "[(0.8067602040816326, 0.7252551020408161, 0.38647959183673486, 0.5341836734693877), (0.8040816326530611, 0.4926020408163266, 0.3918367346938777, 0.5198979591836735)]\n",
      "[(0.7960188207060427, 0.5462785862035948, 0.40796235858791463, 0.6937800903774615), (0.7603030785173022, 0.3377490151727214, 0.47939384296539567, 0.6754980303454428)]\n",
      "[(0.8067602040816326, 0.7252551020408161, 0.38647959183673486, 0.5341836734693877), (0.8040816326530611, 0.4926020408163266, 0.3918367346938777, 0.5198979591836735)]\n",
      "[(0.8067602040816326, 0.7252551020408161, 0.38647959183673486, 0.5341836734693877), (0.8040816326530611, 0.4926020408163266, 0.3918367346938777, 0.5198979591836735)]\n",
      "[(0.7968608103415857, 0.4429293589307115, 0.40627837931682864, 0.6874594443331872), (0.7629383000546793, 0.6575830525312253, 0.47412339989064134, 0.6768526524353546)]\n",
      "[(0.7168650522516142, 0.760173324848407, 0.5119002885717748, 0.4796533503031859), (0.7629749185966228, 0.6509234275265083, 0.4740501628067544, 0.682198369288139)]\n",
      "[(0.8067602040816326, 0.7252551020408161, 0.38647959183673486, 0.5341836734693877), (0.8040816326530611, 0.4926020408163266, 0.3918367346938777, 0.5198979591836735)]\n",
      "[(0.8067602040816326, 0.7252551020408161, 0.38647959183673486, 0.5341836734693877), (0.8040816326530611, 0.4926020408163266, 0.3918367346938777, 0.5198979591836735)]\n",
      "[(0.8067602040816326, 0.7252551020408161, 0.38647959183673486, 0.5341836734693877), (0.8040816326530611, 0.4926020408163266, 0.3918367346938777, 0.5198979591836735)]\n",
      "[(0.8024282760921562, 0.6381120104300638, 0.39514344781568755, 0.6271557848142548), (0.782744876608698, 0.41096269107690375, 0.4345102467826041, 0.6146047364289426)]\n"
     ]
    }
   ],
   "source": [
    "for box in saved_bboxes:\n",
    "  print(box)"
   ]
  }
 ],
 "metadata": {
  "kernelspec": {
   "display_name": "Python 3",
   "language": "python",
   "name": "python3"
  },
  "language_info": {
   "codemirror_mode": {
    "name": "ipython",
    "version": 3
   },
   "file_extension": ".py",
   "mimetype": "text/x-python",
   "name": "python",
   "nbconvert_exporter": "python",
   "pygments_lexer": "ipython3",
   "version": "3.10.12"
  }
 },
 "nbformat": 4,
 "nbformat_minor": 2
}
