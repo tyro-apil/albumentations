{
 "cells": [
  {
   "cell_type": "markdown",
   "metadata": {},
   "source": [
    "## Import libraries"
   ]
  },
  {
   "cell_type": "code",
   "execution_count": 1,
   "metadata": {},
   "outputs": [],
   "source": [
    "import cv2\n",
    "import albumentations as A"
   ]
  },
  {
   "cell_type": "code",
   "execution_count": 2,
   "metadata": {},
   "outputs": [],
   "source": [
    "import random\n",
    "random.seed(7)"
   ]
  },
  {
   "cell_type": "code",
   "execution_count": 3,
   "metadata": {},
   "outputs": [],
   "source": [
    "category_ids = [0, 1, 2]\n",
    "category_id_to_name = {'blue': 0, 'purple': 1, 'red': 2}"
   ]
  },
  {
   "cell_type": "markdown",
   "metadata": {},
   "source": [
    "## Set image and label directory"
   ]
  },
  {
   "cell_type": "code",
   "execution_count": 4,
   "metadata": {},
   "outputs": [],
   "source": [
    "import os\n",
    "IMAGE_DIR = 'images'\n",
    "LABEL_DIR = 'labels'\n",
    "img_files = os.listdir(IMAGE_DIR)\n",
    "label_files = os.listdir(LABEL_DIR)"
   ]
  },
  {
   "cell_type": "code",
   "execution_count": 5,
   "metadata": {},
   "outputs": [],
   "source": [
    "transform = A.Compose(\n",
    "  [\n",
    "    A.HorizontalFlip(p=0.8),\n",
    "    A.VerticalFlip(p=0.2),\n",
    "    A.OneOf([\n",
    "      A.Blur(blur_limit=5, p=0.5),\n",
    "      A.MotionBlur(blur_limit=5, p=0.8)\n",
    "    ], p=1.0)\n",
    "  ], bbox_params=A.BboxParams(format='yolo',  min_visibility=0.3, min_area=3600., label_fields=[])\n",
    ")  "
   ]
  },
  {
   "cell_type": "code",
   "execution_count": 14,
   "metadata": {},
   "outputs": [
    {
     "name": "stdout",
     "output_type": "stream",
     "text": [
      "[[(0.8067602040816326, 0.7252551020408161, 0.38647959183673486, 0.5341836734693877), (0.8040816326530611, 0.4926020408163266, 0.3918367346938777, 0.5198979591836735)], [(0.19323979591836743, 0.2747448979591839, 0.38647959183673486, 0.5341836734693877), (0.19591836734693885, 0.5073979591836735, 0.3918367346938777, 0.5198979591836735)]]\n",
      "[[(0.2565051020408162, 0.31224489795918375, 0.13698979591836746, 0.17346938775510212)], [(0.2565051020408162, 0.31224489795918375, 0.13698979591836746, 0.17346938775510212)]]\n"
     ]
    }
   ],
   "source": [
    "for i, img_file in enumerate(img_files):\n",
    "\n",
    "  # Split the filename and extension\n",
    "  file_name, file_extension = os.path.splitext(img_file)\n",
    "\n",
    "  img_path = os.path.join(IMAGE_DIR, f'{file_name}.jpg')\n",
    "  label_path = os.path.join(LABEL_DIR, f'{file_name}.txt')\n",
    "\n",
    "  img = cv2.imread(img_path)\n",
    "  img = cv2.cvtColor(img, cv2.COLOR_BGR2RGB) \n",
    "  \n",
    "  bboxes = []\n",
    "  saved_category_ids = []\n",
    "\n",
    "  # Read from label text file\n",
    "  with open(label_path, 'r') as file:\n",
    "    lines = file.readlines()\n",
    "\n",
    "  for line in lines:\n",
    "\n",
    "    parts = line.strip().split()\n",
    "    class_num = int(parts[0])\n",
    "    bbox_coordinates = [float(part) for part in parts[1:]]\n",
    "\n",
    "    saved_category_ids.append(class_num)\n",
    "    bboxes.append(bbox_coordinates) \n",
    "  \n",
    "  images_list = []\n",
    "  saved_bboxes = []\n",
    "  \n",
    "  out_img_paths = []\n",
    "  out_label_paths = []\n",
    "\n",
    "  # for thrice the dataset: 2 augmentations for a single image\n",
    "  for i in range(2):\n",
    "    \n",
    "    outfile = f'{file_name}-aug{i}'\n",
    "    out_img_path = os.path.join(IMAGE_DIR, f'{outfile}.jpg')\n",
    "    out_label_path = os.path.join(LABEL_DIR, f'{outfile}.txt')\n",
    "\n",
    "    transformed = transform(image=img, bboxes=bboxes)\n",
    "\n",
    "    if len(transformed[\"bboxes\"]) == 0:\n",
    "      continue\n",
    "\n",
    "    images_list.append(transformed[\"image\"])\n",
    "    saved_bboxes.append(transformed[\"bboxes\"])\n",
    "\n",
    "    out_img_paths.append(out_img_path)\n",
    "    out_label_paths.append(out_label_path)\n",
    "    \n",
    "\n",
    "  breakpoint()\n",
    "  # Write the augmented image to images directory\n",
    "  for img in images_list:\n",
    "    img = cv2.cvtColor(img, cv2.COLOR_RGB2BGR)\n",
    "    cv2.imwrite(out_img_path, img)\n",
    "  \n",
    "  print(saved_bboxes)\n",
    "\n",
    "  # Write the labels to label text file and put into labels directory\n",
    "  for aug_bboxes, out_label_path in zip(saved_bboxes, out_label_paths):\n",
    "    with open(out_label_path, 'a') as txt_file:\n",
    "      \n",
    "      for category_id, aug_bbox in zip(saved_category_ids, aug_bboxes):\n",
    "        labels = []\n",
    "        labels.append(str(category_id))\n",
    "        bbox_info = [str(info) for info in aug_bbox]\n",
    "        labels += bbox_info\n",
    "      \n",
    "      label_txt = ' '.join(labels)\n",
    "\n",
    "      txt_file.write(label_txt + '\\n')"
   ]
  },
  {
   "cell_type": "code",
   "execution_count": null,
   "metadata": {},
   "outputs": [],
   "source": []
  }
 ],
 "metadata": {
  "kernelspec": {
   "display_name": "Python 3",
   "language": "python",
   "name": "python3"
  },
  "language_info": {
   "codemirror_mode": {
    "name": "ipython",
    "version": 3
   },
   "file_extension": ".py",
   "mimetype": "text/x-python",
   "name": "python",
   "nbconvert_exporter": "python",
   "pygments_lexer": "ipython3",
   "version": "3.10.12"
  }
 },
 "nbformat": 4,
 "nbformat_minor": 2
}
