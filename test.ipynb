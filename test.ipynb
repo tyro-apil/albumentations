{
 "cells": [
  {
   "cell_type": "markdown",
   "metadata": {},
   "source": [
    "## Import libraries"
   ]
  },
  {
   "cell_type": "code",
   "execution_count": 1,
   "metadata": {},
   "outputs": [],
   "source": [
    "%matplotlib inline\n",
    "from matplotlib import pyplot as plt"
   ]
  },
  {
   "cell_type": "code",
   "execution_count": 2,
   "metadata": {},
   "outputs": [],
   "source": [
    "import cv2\n",
    "import albumentations as A"
   ]
  },
  {
   "cell_type": "code",
   "execution_count": 3,
   "metadata": {},
   "outputs": [],
   "source": [
    "import random\n",
    "random.seed(7)"
   ]
  },
  {
   "cell_type": "code",
   "execution_count": 4,
   "metadata": {},
   "outputs": [],
   "source": [
    "\n",
    "\n",
    "BOX_COLOR = (255, 0, 0) # Red\n",
    "TEXT_COLOR = (255, 255, 255) # White\n",
    "\n",
    "\n",
    "def visualize_bbox(img, bbox, class_name, color=BOX_COLOR, thickness=2):\n",
    "    \"\"\"Visualizes a single bounding box on the image\"\"\"\n",
    "    x_min, y_min, w, h = bbox\n",
    "    x_min, x_max, y_min, y_max = int(x_min), int(x_min + w), int(y_min), int(y_min + h)\n",
    "\n",
    "    cv2.rectangle(img, (x_min, y_min), (x_max, y_max), color=color, thickness=thickness)\n",
    "\n",
    "    ((text_width, text_height), _) = cv2.getTextSize(class_name, cv2.FONT_HERSHEY_SIMPLEX, 0.35, 1)\n",
    "    cv2.rectangle(img, (x_min, y_min - int(1.3 * text_height)), (x_min + text_width, y_min), BOX_COLOR, -1)\n",
    "    cv2.putText(\n",
    "        img,\n",
    "        text=class_name,\n",
    "        org=(x_min, y_min - int(0.3 * text_height)),\n",
    "        fontFace=cv2.FONT_HERSHEY_SIMPLEX,\n",
    "        fontScale=0.35,\n",
    "        color=TEXT_COLOR,\n",
    "        lineType=cv2.LINE_AA,\n",
    "    )\n",
    "    return img\n",
    "\n",
    "\n",
    "def visualize(image, bboxes, category_ids, category_id_to_name):\n",
    "    img = image.copy()\n",
    "    for bbox, category_id in zip(bboxes, category_ids):\n",
    "        class_name = category_id_to_name[category_id]\n",
    "        img = visualize_bbox(img, bbox, class_name)\n",
    "    plt.figure(figsize=(12, 12))\n",
    "    plt.axis('off')\n",
    "    plt.imshow(img)\n"
   ]
  },
  {
   "cell_type": "markdown",
   "metadata": {},
   "source": [
    "## Set image and label directory"
   ]
  },
  {
   "cell_type": "code",
   "execution_count": 5,
   "metadata": {},
   "outputs": [],
   "source": [
    "import os\n",
    "IMAGE_DIR = 'images'\n",
    "LABEL_DIR = 'labels'\n",
    "img_files = os.listdir(IMAGE_DIR)\n",
    "label_files = os.listdir(LABEL_DIR)"
   ]
  },
  {
   "cell_type": "code",
   "execution_count": 6,
   "metadata": {},
   "outputs": [],
   "source": [
    "def extract_labels(label_path):\n",
    "  bboxes = []\n",
    "  category_ids = []\n",
    "\n",
    "  # Read from label text file\n",
    "  with open(label_path, 'r') as file:\n",
    "    lines = file.readlines()\n",
    "\n",
    "  breakpoint()\n",
    "\n",
    "  for line in lines:\n",
    "\n",
    "    parts = line.strip().split()\n",
    "    print(parts)\n",
    "    class_num = parts[0]\n",
    "    bbox_coordinates = [float(part) for part in parts[1:]]\n",
    "\n",
    "    category_ids.append(class_num)\n",
    "    bboxes.append(bbox_coordinates) \n",
    "  \n",
    "  return category_ids, bboxes"
   ]
  },
  {
   "cell_type": "code",
   "execution_count": 7,
   "metadata": {},
   "outputs": [],
   "source": [
    "def augment_image(img, transform, bboxes, category_ids, file_name):\n",
    "  images_list = []          # List of string\n",
    "  saved_bboxes = []         # List of list\n",
    "  saved_category_ids = []   # List of list\n",
    "  out_img_paths = []        # List of string\n",
    "  out_label_paths = []      # List of string\n",
    "\n",
    "  # for thrice the dataset: 2 augmentations for a single image\n",
    "  for i in range(2):\n",
    "    \n",
    "    outfile = f'{file_name}-aug{i}'\n",
    "    out_img_path = os.path.join(IMAGE_DIR, f'{outfile}.jpg')\n",
    "    out_label_path = os.path.join(LABEL_DIR, f'{outfile}.txt')\n",
    "\n",
    "    transformed = transform(image=img, bboxes=bboxes, category_ids=category_ids)\n",
    "\n",
    "    if len(transformed[\"bboxes\"]) == 0:\n",
    "      continue\n",
    "\n",
    "    images_list.append(transformed[\"image\"])\n",
    "    saved_bboxes.append(transformed[\"bboxes\"])\n",
    "    saved_category_ids.append(transformed[\"category_ids\"])\n",
    "    out_img_paths.append(out_img_path)\n",
    "    out_label_paths.append(out_label_path)\n",
    "  \n",
    "  return images_list, saved_bboxes, saved_category_ids, out_img_paths, out_label_paths"
   ]
  },
  {
   "cell_type": "markdown",
   "metadata": {},
   "source": [
    "## Main script"
   ]
  },
  {
   "cell_type": "code",
   "execution_count": 8,
   "metadata": {},
   "outputs": [
    {
     "name": "stdout",
     "output_type": "stream",
     "text": [
      "6b374cd3-april18-17\n",
      "['1', '0.788137755102041', '0.6926020408163265', '0.4237244897959183', '0.6147959183673466']\n",
      "['2', '0.8447704081632648', '0.40306122448979564', '0.3104591836734689', '0.43469387755101985']\n",
      "61850597-april18-25\n",
      "['0', '0.10867346938775514', '0.5385204081632652', '0.21734693877551028', '0.4770408163265302']\n",
      "5d869984-april18-28\n",
      "['1', '0.4790816326530613', '0.5158163265306123', '0.20204081632653065', '0.2846938775510204']\n",
      "['2', '0.9197704081632649', '0.7477040816326533', '0.16045918367346992', '0.4301020408163269']\n",
      "a4e9b82b-April16-38\n",
      "['0', '0.1796979865771812', '0.6986577181208052', '0.3593959731543624', '0.6026845637583887']\n",
      "bd463858-April16-14\n",
      "['2', '0.8049744897959183', '0.7058673469387757', '0.39005102040816325', '0.5403061224489799']\n",
      "['1', '0.1346938775510204', '0.4477040816326532', '0.2693877551020408', '0.43622448979591844']\n",
      "d2e4295d-April16-9\n",
      "['0', '0.14961734693877551', '0.7359693877551018', '0.29923469387755103', '0.45561224489795854']\n",
      "a4b6f96b-april18-2\n",
      "['2', '0.7147959183673472', '0.47397959183673494', '0.38571428571428595', '0.5030612244897963']\n",
      "['1', '0.10790816326530614', '0.46505102040816354', '0.21581632653061228', '0.5280612244897962']\n",
      "8e9df551-april18-18\n",
      "['1', '0.19323979591836743', '0.7252551020408161', '0.38647959183673486', '0.5341836734693876']\n",
      "['2', '0.19591836734693885', '0.4926020408163266', '0.3918367346938777', '0.5198979591836735']\n",
      "5eddd344-April16-22\n",
      "['2', '0.7434948979591838', '0.31224489795918375', '0.13698979591836746', '0.1734693877551021']\n",
      "fb274026-April16-30\n",
      "['2', '0.1932885906040268', '0.7214765100671137', '0.3865771812080536', '0.5570469798657708']\n",
      "fdcfdc69-april18-22\n",
      "['1', '0.8306122448979594', '0.5178571428571429', '0.33877551020408153', '0.47857142857142854']\n",
      "['0', '0.11020408163265305', '0.6568877551020406', '0.2204081632653061', '0.6035714285714285']\n",
      "a8a995a8-April16-3\n",
      "['1', '0.6329081632653063', '0.5020408163265305', '0.2709183673469389', '0.35510204081632646']\n",
      "b4961b03-april18-20\n",
      "['0', '0.17104591836734687', '0.630357142857143', '0.34209183673469373', '0.6464285714285716']\n",
      "9ed4b38d-april18-29\n",
      "['2', '0.5253826530612244', '0.1448979591836735', '0.23954081632653076', '0.289795918367347']\n",
      "['1', '0.0531887755102041', '0.11326530612244898', '0.1063775510204082', '0.22653061224489796']\n",
      "6a8525c1-April16-23\n",
      "['2', '0.13048469387755104', '0.5415816326530613', '0.2609693877551021', '0.5423469387755102']\n",
      "['1', '0.08609693877551021', '0.25331632653061226', '0.17219387755102042', '0.2719387755102041']\n",
      "fa799533-April16-31\n",
      "['1', '0.14345637583892618', '0.7442953020134228', '0.28691275167785235', '0.511409395973154']\n",
      "ee49a047-April16-17\n",
      "['1', '0.12359693877551024', '0.625765306122449', '0.24719387755102049', '0.38418367346938775']\n",
      "['2', '0.8642857142857142', '0.7903061224489796', '0.271428571428571', '0.31122448979591794']\n",
      "754a36b9-april18-30\n",
      "['2', '0.8681122448979594', '0.17142857142857132', '0.2637755102040816', '0.34285714285714264']\n",
      "f87f4755-April16-7\n",
      "['0', '0.43545918367346964', '0.8227040816326534', '0.38265306122449017', '0.3127551020408169']\n",
      "f401b9f8-april18-8\n",
      "['1', '0.8956632653061226', '0.37346938775510197', '0.20867346938775505', '0.2959183673469387']\n",
      "['0', '0.06696428571428573', '0.5594387755102042', '0.13392857142857145', '0.3494897959183673']\n"
     ]
    }
   ],
   "source": [
    "for img_file in img_files:\n",
    "\n",
    "  # Split the filename and extension\n",
    "  file_name, file_extension = os.path.splitext(img_file)\n",
    "  print(file_name)\n",
    "\n",
    "  img_path = os.path.join(IMAGE_DIR, f'{file_name}.jpg')\n",
    "  label_path = os.path.join(LABEL_DIR, f'{file_name}.txt')\n",
    "\n",
    "  # Read image & convert to RGB format\n",
    "  img = cv2.imread(img_path)\n",
    "  img = cv2.cvtColor(img, cv2.COLOR_BGR2RGB) \n",
    "\n",
    "  # Extract labels from text file\n",
    "  category_ids, bboxes = extract_labels(label_path)\n",
    "\n",
    "  # Composition of transformations\n",
    "  transform = A.Compose(\n",
    "  [\n",
    "    A.HorizontalFlip(p=0.8),\n",
    "    A.VerticalFlip(p=0.2),\n",
    "    A.OneOf([\n",
    "      A.Blur(blur_limit=5, p=0.5),\n",
    "      A.MotionBlur(blur_limit=5, p=0.8)\n",
    "    ], p=1.0)\n",
    "  ], bbox_params=A.BboxParams(format='yolo',  min_visibility=0.33, min_area=3600., label_fields=['category_ids'])\n",
    ") \n",
    "  \n",
    "\n",
    "  # Get augmented images for a single image\n",
    "  images_list, saved_bboxes, saved_category_ids, out_img_paths, out_label_paths = augment_image(img, transform, bboxes, category_ids, file_name) \n",
    "\n",
    "  # Write results to file\n",
    "  # Write the augmented image to images directory\n",
    "  for img, out_img_path in zip(images_list, out_img_paths):\n",
    "    img = cv2.cvtColor(img, cv2.COLOR_RGB2BGR)\n",
    "    cv2.imwrite(out_img_path, img)\n",
    "  \n",
    "\n",
    "  # Write the labels to label text file and put into labels directory\n",
    "  for list_category_ids, list_saved_bboxes, out_label_path in zip(saved_category_ids, saved_bboxes, out_label_paths):\n",
    "    with open(out_label_path, 'a') as txt_file:\n",
    "      \n",
    "      for aug_category_id, aug_bbox in zip(list_category_ids, list_saved_bboxes):\n",
    "        labels = []\n",
    "        labels.append(str(aug_category_id))\n",
    "        bbox_info = [str(info) for info in aug_bbox]\n",
    "        labels += bbox_info\n",
    "      \n",
    "        label_txt = ' '.join(labels)\n",
    "\n",
    "        txt_file.write(label_txt + '\\n')"
   ]
  },
  {
   "cell_type": "code",
   "execution_count": null,
   "metadata": {},
   "outputs": [],
   "source": []
  }
 ],
 "metadata": {
  "kernelspec": {
   "display_name": "Python 3",
   "language": "python",
   "name": "python3"
  },
  "language_info": {
   "codemirror_mode": {
    "name": "ipython",
    "version": 3
   },
   "file_extension": ".py",
   "mimetype": "text/x-python",
   "name": "python",
   "nbconvert_exporter": "python",
   "pygments_lexer": "ipython3",
   "version": "3.10.12"
  }
 },
 "nbformat": 4,
 "nbformat_minor": 2
}
