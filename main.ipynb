{
 "cells": [
  {
   "cell_type": "markdown",
   "metadata": {},
   "source": [
    "## Import libraries"
   ]
  },
  {
   "cell_type": "code",
   "execution_count": null,
   "metadata": {},
   "outputs": [],
   "source": [
    "import albumentations as A\n",
    "import cv2\n",
    "import os\n",
    "import random\n",
    "\n",
    "from matplotlib import pyplot as plt\n",
    "%matplotlib inline\n",
    "\n",
    "from typing import List, Tuple, Dict"
   ]
  },
  {
   "cell_type": "markdown",
   "metadata": {},
   "source": [
    "## Generate multiple augmentations from single image"
   ]
  },
  {
   "cell_type": "markdown",
   "metadata": {},
   "source": [
    "- [x] Read a label file\n",
    "- [x] Extract class_id & bbox coordinates of each annotated object\n",
    "- [x] apply both pixel & spatial augmentation\n",
    "- [x] save the augmented images as well as bboxes & labels to the same directory with modified names\n",
    "- [x] modularize the entire pipeline for multiple images & multiple augmentations\n",
    "- [x] split the **images** & **labels** dataset into train, valid & test"
   ]
  },
  {
   "cell_type": "markdown",
   "metadata": {},
   "source": [
    "## GLOBAL VARS"
   ]
  },
  {
   "cell_type": "code",
   "execution_count": null,
   "metadata": {},
   "outputs": [],
   "source": [
    "IMAGES_DIR = \"test_dir/harvest_day/train/images\"\n",
    "LABELS_DIR = \"test_dir/harvest_day/train/labels\"\n",
    "\n",
    "SEED = 7\n",
    "AUGMENTATIONS_COUNT = 3\n",
    "\n",
    "category_id_to_name = {0: \"blue\", 1: \"purple\", 2: \"red\"}"
   ]
  },
  {
   "cell_type": "code",
   "execution_count": null,
   "metadata": {},
   "outputs": [],
   "source": [
    "transform = A.Compose([\n",
    "\tA.HorizontalFlip(p=0.75),\n",
    "  A.ISONoise(color_shift=(0.01, 0.07), intensity=(0.2, 0.6), p=0.8),\n",
    "  A.CoarseDropout(min_holes=6, max_holes=12, max_height=50, max_width=50, min_height=10, min_width=10, p=0.5),\n",
    "  A.Blur(blur_limit=5, p=0.66),\n",
    "  A.RandomBrightnessContrast(brightness_limit=(-0.25,0.25), contrast_limit=(-0.25, 0.25), p=0.66),\n",
    "  A.ShiftScaleRotate(shift_limit=(-0.06, 0.06), scale_limit=(-0.1, 0.1), rotate_limit=(-30, 30), p=0.5),\n",
    "  A.GaussNoise(var_limit=(100.0, 200.0), p=0.2),\n",
    "  A.ColorJitter(brightness=(0.6,1.50), contrast=(0.8,1.3), saturation=(0.75, 3.00), hue=(-0.05, 0.05), p=0.8),\n",
    "  A.RandomSizedBBoxSafeCrop(640, 640, erosion_rate=0.2, interpolation=1, p=0.5),\n",
    "  A.SafeRotate(limit=(-30,30), interpolation=1, border_mode=0, always_apply=False, p=0.5),\n",
    "],\n",
    "\tbbox_params=A.BboxParams(\n",
    "    format='yolo', \n",
    "    label_fields=['category_ids'],\n",
    "    min_area=2000,\n",
    "    min_visibility=0.33,\n",
    "  ), \n",
    "\tp=1,\n",
    ")"
   ]
  },
  {
   "cell_type": "markdown",
   "metadata": {},
   "source": [
    "## Functions"
   ]
  },
  {
   "cell_type": "code",
   "execution_count": null,
   "metadata": {},
   "outputs": [],
   "source": [
    "BOX_COLOR = (255, 0, 0) # Red\n",
    "TEXT_COLOR = (255, 255, 255) # White\n",
    "\n",
    "\n",
    "def visualize_bbox(img: cv2.Mat, bbox: List[float], class_name: str, color: Tuple = BOX_COLOR, thickness: int=2) -> cv2.Mat:\n",
    "    \"\"\"Visualizes a single bounding box on the image\"\"\"\n",
    "    img_h, img_w, _ = img.shape\n",
    "    x_center, y_center, w, h = bbox\n",
    "    x_center = int(x_center * img_w)\n",
    "    y_center = int(y_center * img_h)\n",
    "    w = int(w * img_w)\n",
    "    h = int(h * img_h)\n",
    "    x_min, x_max, y_min, y_max = int(x_center-w/2), int(x_center + w/2), int(y_center-h/2), int(y_center + h/2)\n",
    "\n",
    "    cv2.rectangle(img, (x_min, y_min), (x_max, y_max), color=color, thickness=thickness)\n",
    "\n",
    "    ((text_width, text_height), _) = cv2.getTextSize(class_name, cv2.FONT_HERSHEY_SIMPLEX, 0.35, 1)\n",
    "    cv2.rectangle(img, (x_min, y_min - int(1.3 * text_height)), (x_min + text_width, y_min), BOX_COLOR, -1)\n",
    "    cv2.putText(\n",
    "        img,\n",
    "        text=class_name,\n",
    "        org=(x_min, y_min - int(0.3 * text_height)),\n",
    "        fontFace=cv2.FONT_HERSHEY_SIMPLEX,\n",
    "        fontScale=0.35,\n",
    "        color=TEXT_COLOR,\n",
    "        lineType=cv2.LINE_AA,\n",
    "    )\n",
    "    return img\n",
    "\n",
    "\n",
    "def visualize(image: cv2.Mat, bboxes: List[List[float]], category_ids: List[str], category_id_to_name: Dict[int, str])->None:\n",
    "    img = image.copy()\n",
    "    for bbox, category_id in zip(bboxes, category_ids):\n",
    "        class_name = category_id_to_name[category_id]\n",
    "        img = visualize_bbox(img, bbox, class_name)\n",
    "    plt.figure(figsize=(12, 12))\n",
    "    plt.axis('off')\n",
    "    plt.imshow(img)"
   ]
  },
  {
   "cell_type": "code",
   "execution_count": null,
   "metadata": {},
   "outputs": [],
   "source": [
    "def parse_bboxes_n_labels(lines_read: List[str]) -> Tuple[List[List[float]], List[int]]:\n",
    "\tbboxes = []\n",
    "\tlabels = []\n",
    "\n",
    "\tfor line in lines_read:\n",
    "\t\tline = line.split(\" \")\n",
    "\t\tlabel = line[0]\n",
    "\t\tbbox = line[1:]\n",
    "\t\tlabel = int(label)\n",
    "\t\tbbox = [float(x) for x in bbox]\n",
    "\t\tbboxes.append(bbox)\n",
    "\t\tlabels.append(label)\n",
    "\n",
    "\treturn bboxes, labels"
   ]
  },
  {
   "cell_type": "code",
   "execution_count": null,
   "metadata": {},
   "outputs": [],
   "source": [
    "def get_img_n_labelTxt(file_name: str) -> Tuple[cv2.Mat, List[str]]:\n",
    "\ttxt_file = os.path.join(LABELS_DIR, file_name + \".txt\")\n",
    "\timg_file = os.path.join(IMAGES_DIR, file_name + \".jpg\")\n",
    "\n",
    "\timg = cv2.imread(img_file)\n",
    "\timg = cv2.cvtColor(img, cv2.COLOR_BGR2RGB)\n",
    "\n",
    "\twith open(txt_file, \"r\") as f:\n",
    "\t\tlines_read = f.readlines()\n",
    "\t\n",
    "\tlines_read = [line.strip() for line in lines_read]\n",
    "\treturn img, lines_read"
   ]
  },
  {
   "cell_type": "code",
   "execution_count": null,
   "metadata": {},
   "outputs": [],
   "source": [
    "def write_to_file(file_name: str, transformed) -> None:\n",
    "\ttxt_file = os.path.join(LABELS_DIR, file_name )\n",
    "\timg_file = os.path.join(IMAGES_DIR, file_name )\n",
    "\n",
    "\tcv2.imwrite(img_file, cv2.cvtColor(transformed['image'], cv2.COLOR_RGB2BGR))\n",
    "\n",
    "\twith open(txt_file, \"w\") as f:\n",
    "\t\tfor bbox, label in zip(transformed[\"bboxes\"], transformed[\"category_ids\"]):\n",
    "\t\t\tline = f\"{label} {bbox[0]} {bbox[1]} {bbox[2]} {bbox[3]}\\n\"\n",
    "\t\t\tf.write(line)"
   ]
  },
  {
   "cell_type": "markdown",
   "metadata": {},
   "source": [
    "## Main function"
   ]
  },
  {
   "cell_type": "code",
   "execution_count": null,
   "metadata": {},
   "outputs": [],
   "source": [
    "def main()->None:\n",
    "\tfiles = os.listdir(IMAGES_DIR)\n",
    "\n",
    "\tfor file in files:\n",
    "\t\tfile_name = os.path.splitext(file)[0]\n",
    "\n",
    "\t\tprint(file_name)\n",
    "\n",
    "\t\timg, lines_read = get_img_n_labelTxt(file_name)\n",
    "\n",
    "\t\tbboxes, category_ids = parse_bboxes_n_labels(lines_read)\n",
    "\n",
    "\t\t# visualize(img, bboxes, category_ids, category_id_to_name)\n",
    "\t\tSEED = 1\n",
    "\n",
    "\t\tfor i in range(AUGMENTATIONS_COUNT):\n",
    "\n",
    "\t\t\trandom.seed(SEED)\n",
    "\t\t\tSEED+=1\n",
    "\n",
    "\t\t\ttransformed = transform(image=img, bboxes=bboxes, category_ids=category_ids)\n",
    "\n",
    "\t\t\t# visualize(transformed['image'], transformed['bboxes'], transformed['category_ids'], category_id_to_name)\n",
    "\n",
    "\t\t\tnew_file_name = file_name + f\"_aug_{i}\"\n",
    "\n",
    "\t\t\twrite_to_file(new_file_name, transformed)\n",
    "\n",
    "\t\t\n",
    "\treturn"
   ]
  },
  {
   "cell_type": "code",
   "execution_count": null,
   "metadata": {},
   "outputs": [],
   "source": [
    "main()"
   ]
  }
 ],
 "metadata": {
  "kernelspec": {
   "display_name": "Python 3",
   "language": "python",
   "name": "python3"
  },
  "language_info": {
   "codemirror_mode": {
    "name": "ipython",
    "version": 3
   },
   "file_extension": ".py",
   "mimetype": "text/x-python",
   "name": "python",
   "nbconvert_exporter": "python",
   "pygments_lexer": "ipython3",
   "version": "3.10.12"
  }
 },
 "nbformat": 4,
 "nbformat_minor": 2
}
